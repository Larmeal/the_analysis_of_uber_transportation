{
 "cells": [
  {
   "cell_type": "code",
   "execution_count": 1,
   "metadata": {},
   "outputs": [],
   "source": [
    "import pandas as pd"
   ]
  },
  {
   "cell_type": "code",
   "execution_count": 2,
   "metadata": {},
   "outputs": [],
   "source": [
    "data = pd.read_csv(\"C:/Users/matur/OneDrive/Project/the_analysis_of_uber_transportation/data/uber_data.csv\")\n",
    "\n",
    "df = pd.DataFrame(data)\n"
   ]
  },
  {
   "cell_type": "code",
   "execution_count": 3,
   "metadata": {},
   "outputs": [
    {
     "name": "stdout",
     "output_type": "stream",
     "text": [
      "<class 'pandas.core.frame.DataFrame'>\n",
      "Int64Index: 99982 entries, 0 to 99999\n",
      "Data columns (total 19 columns):\n",
      " #   Column                 Non-Null Count  Dtype  \n",
      "---  ------                 --------------  -----  \n",
      " 0   vendorid               99982 non-null  int64  \n",
      " 1   tpep_pickup_datetime   99982 non-null  object \n",
      " 2   tpep_dropoff_datetime  99982 non-null  object \n",
      " 3   passenger_count        99982 non-null  float64\n",
      " 4   trip_distance          99982 non-null  float64\n",
      " 5   pickup_longitude       99982 non-null  float64\n",
      " 6   pickup_latitude        99982 non-null  float64\n",
      " 7   ratecodeid             99982 non-null  float64\n",
      " 8   store_and_fwd_flag     99982 non-null  object \n",
      " 9   dropoff_longitude      99982 non-null  float64\n",
      " 10  dropoff_latitude       99982 non-null  float64\n",
      " 11  payment_type           99982 non-null  float64\n",
      " 12  fare_amount            99982 non-null  float64\n",
      " 13  extra                  99982 non-null  float64\n",
      " 14  mta_tax                99982 non-null  float64\n",
      " 15  tip_amount             99982 non-null  float64\n",
      " 16  tolls_amount           99982 non-null  float64\n",
      " 17  improvement_surcharge  99982 non-null  float64\n",
      " 18  total_amount           99982 non-null  float64\n",
      "dtypes: float64(15), int64(1), object(3)\n",
      "memory usage: 15.3+ MB\n"
     ]
    }
   ],
   "source": [
    "# Delete all rows with null values\n",
    "df = df.dropna()\n",
    "\n",
    "\n",
    "# Convert all column names to lowercase\n",
    "df.columns = df.columns.str.lower()\n",
    "\n",
    "df.info()"
   ]
  },
  {
   "cell_type": "code",
   "execution_count": 4,
   "metadata": {},
   "outputs": [],
   "source": [
    "# Convert data type: object to datetime \n",
    "columns_to_convert_datetime = [\"tpep_pickup_datetime\", \"tpep_dropoff_datetime\"]\n",
    "df[columns_to_convert_datetime] = df[columns_to_convert_datetime].apply(pd.to_datetime)\n",
    "\n",
    "# Convert data type: float to integer \n",
    "columns_covert_to_int = [\"passenger_count\", \"ratecodeid\", \"payment_type\"]\n",
    "df[columns_covert_to_int] = df[columns_covert_to_int].astype(\"int64\")\n",
    "\n",
    "# Covert data type: object to string\n",
    "column_covert_to_str = \"store_and_fwd_flag\"\n",
    "df[column_covert_to_str] = df[column_covert_to_str].astype(\"string\")\n"
   ]
  },
  {
   "cell_type": "code",
   "execution_count": 5,
   "metadata": {},
   "outputs": [],
   "source": [
    "# Delete rows with zero values\n",
    "df = df[(df['pickup_longitude'] != 0) & (df['pickup_latitude'] != 0) & (df['dropoff_longitude'] != 0) & (df['dropoff_latitude'] != 0)]"
   ]
  },
  {
   "cell_type": "code",
   "execution_count": 6,
   "metadata": {},
   "outputs": [
    {
     "name": "stdout",
     "output_type": "stream",
     "text": [
      "<class 'pandas.core.frame.DataFrame'>\n",
      "Int64Index: 98982 entries, 0 to 99999\n",
      "Data columns (total 19 columns):\n",
      " #   Column                 Non-Null Count  Dtype         \n",
      "---  ------                 --------------  -----         \n",
      " 0   vendorid               98982 non-null  int64         \n",
      " 1   tpep_pickup_datetime   98982 non-null  datetime64[ns]\n",
      " 2   tpep_dropoff_datetime  98982 non-null  datetime64[ns]\n",
      " 3   passenger_count        98982 non-null  int64         \n",
      " 4   trip_distance          98982 non-null  float64       \n",
      " 5   pickup_longitude       98982 non-null  float64       \n",
      " 6   pickup_latitude        98982 non-null  float64       \n",
      " 7   ratecodeid             98982 non-null  int64         \n",
      " 8   store_and_fwd_flag     98982 non-null  string        \n",
      " 9   dropoff_longitude      98982 non-null  float64       \n",
      " 10  dropoff_latitude       98982 non-null  float64       \n",
      " 11  payment_type           98982 non-null  int64         \n",
      " 12  fare_amount            98982 non-null  float64       \n",
      " 13  extra                  98982 non-null  float64       \n",
      " 14  mta_tax                98982 non-null  float64       \n",
      " 15  tip_amount             98982 non-null  float64       \n",
      " 16  tolls_amount           98982 non-null  float64       \n",
      " 17  improvement_surcharge  98982 non-null  float64       \n",
      " 18  total_amount           98982 non-null  float64       \n",
      "dtypes: datetime64[ns](2), float64(12), int64(4), string(1)\n",
      "memory usage: 15.1 MB\n"
     ]
    }
   ],
   "source": [
    "df.info()"
   ]
  },
  {
   "cell_type": "code",
   "execution_count": 7,
   "metadata": {},
   "outputs": [
    {
     "name": "stdout",
     "output_type": "stream",
     "text": [
      "vendorid\n",
      "passenger_count\n",
      "trip_distance\n",
      "pickup_longitude\n",
      "pickup_latitude\n",
      "ratecodeid\n",
      "dropoff_longitude\n",
      "dropoff_latitude\n",
      "payment_type\n",
      "fare_amount\n",
      "extra\n",
      "mta_tax\n",
      "tip_amount\n",
      "tolls_amount\n",
      "improvement_surcharge\n",
      "total_amount\n"
     ]
    }
   ],
   "source": [
    "position_columns = ['pickup_longitude', 'pickup_latitude', 'dropoff_longitude', 'dropoff_latitude']\n",
    "str_datetime_columns = ['tpep_pickup_date', 'tpep_dropoff_date', 'store_and_fwd_flag']\n",
    "\n",
    "# Iterate through each column\n",
    "for col in df.select_dtypes(include=['int', 'float']).columns:\n",
    "    print(col)\n",
    "    if col in position_columns or col in str_datetime_columns:\n",
    "        continue\n",
    "    else:\n",
    "        # Remove negative values\n",
    "        df = df[df[col].apply(lambda x: x >= 0)]"
   ]
  },
  {
   "cell_type": "code",
   "execution_count": 8,
   "metadata": {},
   "outputs": [
    {
     "name": "stdout",
     "output_type": "stream",
     "text": [
      "<class 'pandas.core.frame.DataFrame'>\n",
      "Int64Index: 98913 entries, 0 to 99999\n",
      "Data columns (total 19 columns):\n",
      " #   Column                 Non-Null Count  Dtype         \n",
      "---  ------                 --------------  -----         \n",
      " 0   vendorid               98913 non-null  int64         \n",
      " 1   tpep_pickup_datetime   98913 non-null  datetime64[ns]\n",
      " 2   tpep_dropoff_datetime  98913 non-null  datetime64[ns]\n",
      " 3   passenger_count        98913 non-null  int64         \n",
      " 4   trip_distance          98913 non-null  float64       \n",
      " 5   pickup_longitude       98913 non-null  float64       \n",
      " 6   pickup_latitude        98913 non-null  float64       \n",
      " 7   ratecodeid             98913 non-null  int64         \n",
      " 8   store_and_fwd_flag     98913 non-null  string        \n",
      " 9   dropoff_longitude      98913 non-null  float64       \n",
      " 10  dropoff_latitude       98913 non-null  float64       \n",
      " 11  payment_type           98913 non-null  int64         \n",
      " 12  fare_amount            98913 non-null  float64       \n",
      " 13  extra                  98913 non-null  float64       \n",
      " 14  mta_tax                98913 non-null  float64       \n",
      " 15  tip_amount             98913 non-null  float64       \n",
      " 16  tolls_amount           98913 non-null  float64       \n",
      " 17  improvement_surcharge  98913 non-null  float64       \n",
      " 18  total_amount           98913 non-null  float64       \n",
      "dtypes: datetime64[ns](2), float64(12), int64(4), string(1)\n",
      "memory usage: 15.1 MB\n"
     ]
    }
   ],
   "source": [
    "df.info()"
   ]
  },
  {
   "cell_type": "code",
   "execution_count": 9,
   "metadata": {},
   "outputs": [],
   "source": [
    "df.to_csv('transformed_uber_data.csv', index=False)\n"
   ]
  }
 ],
 "metadata": {
  "kernelspec": {
   "display_name": "base",
   "language": "python",
   "name": "python3"
  },
  "language_info": {
   "codemirror_mode": {
    "name": "ipython",
    "version": 3
   },
   "file_extension": ".py",
   "mimetype": "text/x-python",
   "name": "python",
   "nbconvert_exporter": "python",
   "pygments_lexer": "ipython3",
   "version": "3.11.3"
  },
  "orig_nbformat": 4
 },
 "nbformat": 4,
 "nbformat_minor": 2
}
