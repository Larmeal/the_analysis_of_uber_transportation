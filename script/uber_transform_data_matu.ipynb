{
 "cells": [
  {
   "cell_type": "code",
   "execution_count": 1,
   "metadata": {},
   "outputs": [],
   "source": [
    "import pandas as pd"
   ]
  },
  {
   "cell_type": "code",
   "execution_count": 2,
   "metadata": {},
   "outputs": [],
   "source": [
    "data = pd.read_csv(\"C:/Users/matur/OneDrive/Project/the_analysis_of_uber_transportation/data/uber_data.csv\")"
   ]
  },
  {
   "cell_type": "code",
   "execution_count": 3,
   "metadata": {},
   "outputs": [],
   "source": [
    "df = pd.DataFrame(data)"
   ]
  },
  {
   "cell_type": "code",
   "execution_count": 4,
   "metadata": {},
   "outputs": [],
   "source": [
    "df = df.dropna()\n"
   ]
  },
  {
   "cell_type": "code",
   "execution_count": 5,
   "metadata": {},
   "outputs": [],
   "source": [
    "columns_to_convert_datetime = [\"tpep_pickup_datetime\", \"tpep_dropoff_datetime\"]\n",
    "df[columns_to_convert_datetime] = df[columns_to_convert_datetime].apply(pd.to_datetime)\n"
   ]
  },
  {
   "cell_type": "code",
   "execution_count": 6,
   "metadata": {},
   "outputs": [],
   "source": [
    "columns_covert_to_int = [\"passenger_count\", \"RatecodeID\", \"payment_type\"]\n",
    "df[columns_covert_to_int] = df[columns_covert_to_int].astype(\"int64\")"
   ]
  },
  {
   "cell_type": "code",
   "execution_count": 26,
   "metadata": {},
   "outputs": [
    {
     "name": "stdout",
     "output_type": "stream",
     "text": [
      "<class 'pandas.core.frame.DataFrame'>\n",
      "Int64Index: 99982 entries, 0 to 99999\n",
      "Data columns (total 19 columns):\n",
      " #   Column                 Non-Null Count  Dtype         \n",
      "---  ------                 --------------  -----         \n",
      " 0   VendorID               99982 non-null  int64         \n",
      " 1   tpep_pickup_datetime   99982 non-null  datetime64[ns]\n",
      " 2   tpep_dropoff_datetime  99982 non-null  datetime64[ns]\n",
      " 3   passenger_count        99982 non-null  int64         \n",
      " 4   trip_distance          99982 non-null  float64       \n",
      " 5   pickup_longitude       99982 non-null  float64       \n",
      " 6   pickup_latitude        99982 non-null  float64       \n",
      " 7   RatecodeID             99982 non-null  int64         \n",
      " 8   store_and_fwd_flag     99982 non-null  string        \n",
      " 9   dropoff_longitude      99982 non-null  float64       \n",
      " 10  dropoff_latitude       99982 non-null  float64       \n",
      " 11  payment_type           99982 non-null  int64         \n",
      " 12  fare_amount            99982 non-null  float64       \n",
      " 13  extra                  99982 non-null  float64       \n",
      " 14  mta_tax                99982 non-null  float64       \n",
      " 15  tip_amount             99982 non-null  float64       \n",
      " 16  tolls_amount           99982 non-null  float64       \n",
      " 17  improvement_surcharge  99982 non-null  float64       \n",
      " 18  total_amount           99982 non-null  float64       \n",
      "dtypes: datetime64[ns](2), float64(12), int64(4), string(1)\n",
      "memory usage: 15.3 MB\n"
     ]
    }
   ],
   "source": [
    "column_covert_to_str = \"store_and_fwd_flag\"\n",
    "df[column_covert_to_str] = df[column_covert_to_str].astype(\"string\")\n",
    "df.info()"
   ]
  }
 ],
 "metadata": {
  "kernelspec": {
   "display_name": "base",
   "language": "python",
   "name": "python3"
  },
  "language_info": {
   "codemirror_mode": {
    "name": "ipython",
    "version": 3
   },
   "file_extension": ".py",
   "mimetype": "text/x-python",
   "name": "python",
   "nbconvert_exporter": "python",
   "pygments_lexer": "ipython3",
   "version": "3.11.3"
  },
  "orig_nbformat": 4
 },
 "nbformat": 4,
 "nbformat_minor": 2
}
