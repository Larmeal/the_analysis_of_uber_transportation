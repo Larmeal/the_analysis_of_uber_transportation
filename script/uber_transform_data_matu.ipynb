{
 "cells": [
  {
   "cell_type": "code",
   "execution_count": 89,
   "metadata": {},
   "outputs": [],
   "source": [
    "import pandas as pd"
   ]
  },
  {
   "cell_type": "code",
   "execution_count": 90,
   "metadata": {},
   "outputs": [],
   "source": [
    "data = pd.read_csv(\"C:/Users/matur/OneDrive/Project/the_analysis_of_uber_transportation/data/uber_data.csv\")\n",
    "\n",
    "df = pd.DataFrame(data)"
   ]
  },
  {
   "cell_type": "code",
   "execution_count": 91,
   "metadata": {},
   "outputs": [],
   "source": [
    "# Delete all rows with null values\n",
    "df = df.dropna()\n",
    "\n",
    "\n",
    "# Convert all column names to lowercase\n",
    "df.columns = df.columns.str.lower()"
   ]
  },
  {
   "cell_type": "code",
   "execution_count": 92,
   "metadata": {},
   "outputs": [],
   "source": [
    "# Convert data type: object to datetime \n",
    "columns_to_convert_datetime = [\"tpep_pickup_datetime\", \"tpep_dropoff_datetime\"]\n",
    "df[columns_to_convert_datetime] = df[columns_to_convert_datetime].apply(pd.to_datetime)\n",
    "\n",
    "# Convert data type: float to integer \n",
    "columns_covert_to_int = [\"passenger_count\", \"ratecodeid\", \"payment_type\"]\n",
    "df[columns_covert_to_int] = df[columns_covert_to_int].astype(\"int64\")\n",
    "\n",
    "# Covert data type: object to string\n",
    "column_covert_to_str = \"store_and_fwd_flag\"\n",
    "df[column_covert_to_str] = df[column_covert_to_str].astype(\"string\")\n"
   ]
  },
  {
   "cell_type": "code",
   "execution_count": 93,
   "metadata": {},
   "outputs": [],
   "source": [
    "# Delete rows with zero values\n",
    "df = df[(df['pickup_longitude'] != 0) & (df['pickup_latitude'] != 0) & (df['dropoff_longitude'] != 0) & (df['dropoff_latitude'] != 0)]"
   ]
  },
  {
   "cell_type": "code",
   "execution_count": 96,
   "metadata": {},
   "outputs": [],
   "source": [
    "position_columns = ['pickup_longitude', 'pickup_latitude', 'dropoff_longitude', 'dropoff_latitude']\n",
    "str_datetime_columns = ['tpep_pickup_date', 'tpep_dropoff_date', 'store_and_fwd_flag']\n",
    "\n",
    "# Iterate through each column\n",
    "for col in df.select_dtypes(include=['int', 'float']).columns:\n",
    "    if col in position_columns and str_datetime_columns:\n",
    "        continue\n",
    "    else:\n",
    "        # Remove negative values\n",
    "        df[col] = df[col].apply(lambda x: max(0, x))"
   ]
  }
 ],
 "metadata": {
  "kernelspec": {
   "display_name": "base",
   "language": "python",
   "name": "python3"
  },
  "language_info": {
   "codemirror_mode": {
    "name": "ipython",
    "version": 3
   },
   "file_extension": ".py",
   "mimetype": "text/x-python",
   "name": "python",
   "nbconvert_exporter": "python",
   "pygments_lexer": "ipython3",
   "version": "3.11.3"
  },
  "orig_nbformat": 4
 },
 "nbformat": 4,
 "nbformat_minor": 2
}
